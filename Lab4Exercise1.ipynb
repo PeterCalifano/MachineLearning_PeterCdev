{
 "cells": [
  {
   "attachments": {},
   "cell_type": "markdown",
   "metadata": {},
   "source": [
    "# Exercises: neural network review/introduction\n",
    "\n",
    "Exercise on classification using NN. \n",
    "\n",
    "Author: Stefano Pagani <stefano.pagani@polimi.it>.\n",
    "\n",
    "Date: 2024\n",
    "\n",
    "Course: Mathematical and numerical foundations of scientific machine learning."
   ]
  },
  {
   "attachments": {},
   "cell_type": "markdown",
   "metadata": {},
   "source": [
    "Example adapted from:\n",
    "[1] Brunton, S. L., & Kutz, J. N. (2022).\n",
    "Data-driven science and engineering: Machine learning,\n",
    "dynamical systems, and control. Cambridge University Press.\n",
    "Data from [1].\n"
   ]
  },
  {
   "cell_type": "code",
   "execution_count": 1,
   "metadata": {},
   "outputs": [
    {
     "name": "stderr",
     "output_type": "stream",
     "text": [
      "/home/peterc/.local/lib/python3.10/site-packages/matplotlib/projections/__init__.py:63: UserWarning: Unable to import Axes3D. This may be due to multiple versions of Matplotlib being installed (e.g. as a system package and as a pip package). As a result, the 3D projection is not available.\n",
      "  warnings.warn(\"Unable to import Axes3D. This may be due to multiple versions of \"\n",
      "2024-03-06 09:48:52.614475: I tensorflow/core/util/port.cc:113] oneDNN custom operations are on. You may see slightly different numerical results due to floating-point round-off errors from different computation orders. To turn them off, set the environment variable `TF_ENABLE_ONEDNN_OPTS=0`.\n",
      "2024-03-06 09:48:52.902434: E external/local_xla/xla/stream_executor/cuda/cuda_dnn.cc:9261] Unable to register cuDNN factory: Attempting to register factory for plugin cuDNN when one has already been registered\n",
      "2024-03-06 09:48:52.902485: E external/local_xla/xla/stream_executor/cuda/cuda_fft.cc:607] Unable to register cuFFT factory: Attempting to register factory for plugin cuFFT when one has already been registered\n",
      "2024-03-06 09:48:52.948015: E external/local_xla/xla/stream_executor/cuda/cuda_blas.cc:1515] Unable to register cuBLAS factory: Attempting to register factory for plugin cuBLAS when one has already been registered\n",
      "2024-03-06 09:48:53.040430: I tensorflow/core/platform/cpu_feature_guard.cc:182] This TensorFlow binary is optimized to use available CPU instructions in performance-critical operations.\n",
      "To enable the following instructions: AVX2 AVX512F AVX512_VNNI FMA, in other operations, rebuild TensorFlow with the appropriate compiler flags.\n",
      "2024-03-06 09:48:54.007062: W tensorflow/compiler/tf2tensorrt/utils/py_utils.cc:38] TF-TRT Warning: Could not find TensorRT\n"
     ]
    }
   ],
   "source": [
    "\n",
    "# Import modules\n",
    "\n",
    "import numpy as np\n",
    "import matplotlib.pyplot as plt\n",
    "from matplotlib import rcParams\n",
    "from scipy import io\n",
    "import os\n",
    "from sklearn import linear_model\n",
    "import tensorflow as tf\n",
    "from tensorflow import keras\n",
    "\n",
    "from keras import layers\n",
    "from keras import regularizers\n",
    "from keras.utils import to_categorical\n",
    "\n"
   ]
  },
  {
   "cell_type": "code",
   "execution_count": 2,
   "metadata": {},
   "outputs": [],
   "source": [
    "# Read dataset\n",
    "rcParams.update({'font.size': 18})\n",
    "plt.rcParams['figure.figsize'] = [9, 6]\n",
    "\n",
    "dogdata_mat = io.loadmat(os.path.join('dogData.mat'))\n",
    "catdata_mat = io.loadmat(os.path.join('catData.mat'))\n",
    "\n",
    "# Extract data from mat file \n",
    "dog = dogdata_mat['dog']\n",
    "cat = catdata_mat['cat']\n",
    "\n",
    "# Concatenate in 1D vector\n",
    "CD = np.concatenate((dog,cat),axis=1)\n",
    "\n",
    "# Split data into training and validation dataset\n",
    "# Input data\n",
    "X_train = np.concatenate((dog[:,:60],cat[:,:60]),axis=1) \n",
    "X_test = np.concatenate((dog[:,60:80],cat[:,60:80]),axis=1) \n",
    "\n",
    "# Labels (truth)\n",
    "y_train = np.repeat(np.array([1,-1]),60) \n",
    "y_test = np.repeat(np.array([1,-1]),20)\n",
    "\n"
   ]
  },
  {
   "attachments": {},
   "cell_type": "markdown",
   "metadata": {},
   "source": [
    "\n",
    "Task 1: visualize some pictures from the training set"
   ]
  },
  {
   "cell_type": "code",
   "execution_count": 50,
   "metadata": {},
   "outputs": [
    {
     "ename": "KeyboardInterrupt",
     "evalue": "",
     "output_type": "error",
     "traceback": [
      "\u001b[0;31m---------------------------------------------------------------------------\u001b[0m",
      "\u001b[0;31mKeyboardInterrupt\u001b[0m                         Traceback (most recent call last)",
      "Cell \u001b[0;32mIn[50], line 11\u001b[0m\n\u001b[1;32m      8\u001b[0m imgID \u001b[38;5;241m=\u001b[39m \u001b[38;5;241m33\u001b[39m\n\u001b[1;32m     10\u001b[0m \u001b[38;5;66;03m# Show image\u001b[39;00m\n\u001b[0;32m---> 11\u001b[0m \u001b[43mfigplot1\u001b[49m\u001b[38;5;241m.\u001b[39mimshow(np\u001b[38;5;241m.\u001b[39mreshape(cat[:, imgID], (\u001b[38;5;241m64\u001b[39m, \u001b[38;5;241m64\u001b[39m))\u001b[38;5;241m.\u001b[39mT, cmap\u001b[38;5;241m=\u001b[39m\u001b[38;5;124m'\u001b[39m\u001b[38;5;124mgray\u001b[39m\u001b[38;5;124m'\u001b[39m)\n\u001b[1;32m     12\u001b[0m figplot2\u001b[38;5;241m.\u001b[39mimshow(np\u001b[38;5;241m.\u001b[39mreshape(dog[:, imgID], (\u001b[38;5;241m64\u001b[39m, \u001b[38;5;241m64\u001b[39m))\u001b[38;5;241m.\u001b[39mT, cmap\u001b[38;5;241m=\u001b[39m\u001b[38;5;124m'\u001b[39m\u001b[38;5;124mgray\u001b[39m\u001b[38;5;124m'\u001b[39m)\n\u001b[1;32m     13\u001b[0m plt\u001b[38;5;241m.\u001b[39mshow()\n",
      "Cell \u001b[0;32mIn[50], line 11\u001b[0m\n\u001b[1;32m      8\u001b[0m imgID \u001b[38;5;241m=\u001b[39m \u001b[38;5;241m33\u001b[39m\n\u001b[1;32m     10\u001b[0m \u001b[38;5;66;03m# Show image\u001b[39;00m\n\u001b[0;32m---> 11\u001b[0m \u001b[43mfigplot1\u001b[49m\u001b[38;5;241m.\u001b[39mimshow(np\u001b[38;5;241m.\u001b[39mreshape(cat[:, imgID], (\u001b[38;5;241m64\u001b[39m, \u001b[38;5;241m64\u001b[39m))\u001b[38;5;241m.\u001b[39mT, cmap\u001b[38;5;241m=\u001b[39m\u001b[38;5;124m'\u001b[39m\u001b[38;5;124mgray\u001b[39m\u001b[38;5;124m'\u001b[39m)\n\u001b[1;32m     12\u001b[0m figplot2\u001b[38;5;241m.\u001b[39mimshow(np\u001b[38;5;241m.\u001b[39mreshape(dog[:, imgID], (\u001b[38;5;241m64\u001b[39m, \u001b[38;5;241m64\u001b[39m))\u001b[38;5;241m.\u001b[39mT, cmap\u001b[38;5;241m=\u001b[39m\u001b[38;5;124m'\u001b[39m\u001b[38;5;124mgray\u001b[39m\u001b[38;5;124m'\u001b[39m)\n\u001b[1;32m     13\u001b[0m plt\u001b[38;5;241m.\u001b[39mshow()\n",
      "File \u001b[0;32m_pydevd_bundle/pydevd_cython.pyx:1457\u001b[0m, in \u001b[0;36m_pydevd_bundle.pydevd_cython.SafeCallWrapper.__call__\u001b[0;34m()\u001b[0m\n",
      "File \u001b[0;32m_pydevd_bundle/pydevd_cython.pyx:701\u001b[0m, in \u001b[0;36m_pydevd_bundle.pydevd_cython.PyDBFrame.trace_dispatch\u001b[0;34m()\u001b[0m\n",
      "File \u001b[0;32m_pydevd_bundle/pydevd_cython.pyx:1152\u001b[0m, in \u001b[0;36m_pydevd_bundle.pydevd_cython.PyDBFrame.trace_dispatch\u001b[0;34m()\u001b[0m\n",
      "File \u001b[0;32m_pydevd_bundle/pydevd_cython.pyx:1135\u001b[0m, in \u001b[0;36m_pydevd_bundle.pydevd_cython.PyDBFrame.trace_dispatch\u001b[0;34m()\u001b[0m\n",
      "File \u001b[0;32m_pydevd_bundle/pydevd_cython.pyx:312\u001b[0m, in \u001b[0;36m_pydevd_bundle.pydevd_cython.PyDBFrame.do_wait_suspend\u001b[0;34m()\u001b[0m\n",
      "File \u001b[0;32m~/.local/lib/python3.10/site-packages/debugpy/_vendored/pydevd/pydevd.py:2070\u001b[0m, in \u001b[0;36mPyDB.do_wait_suspend\u001b[0;34m(self, thread, frame, event, arg, exception_type)\u001b[0m\n\u001b[1;32m   2067\u001b[0m             from_this_thread\u001b[38;5;241m.\u001b[39mappend(frame_custom_thread_id)\n\u001b[1;32m   2069\u001b[0m     \u001b[38;5;28;01mwith\u001b[39;00m \u001b[38;5;28mself\u001b[39m\u001b[38;5;241m.\u001b[39m_threads_suspended_single_notification\u001b[38;5;241m.\u001b[39mnotify_thread_suspended(thread_id, thread, stop_reason):\n\u001b[0;32m-> 2070\u001b[0m         keep_suspended \u001b[38;5;241m=\u001b[39m \u001b[38;5;28;43mself\u001b[39;49m\u001b[38;5;241;43m.\u001b[39;49m\u001b[43m_do_wait_suspend\u001b[49m\u001b[43m(\u001b[49m\u001b[43mthread\u001b[49m\u001b[43m,\u001b[49m\u001b[43m \u001b[49m\u001b[43mframe\u001b[49m\u001b[43m,\u001b[49m\u001b[43m \u001b[49m\u001b[43mevent\u001b[49m\u001b[43m,\u001b[49m\u001b[43m \u001b[49m\u001b[43marg\u001b[49m\u001b[43m,\u001b[49m\u001b[43m \u001b[49m\u001b[43msuspend_type\u001b[49m\u001b[43m,\u001b[49m\u001b[43m \u001b[49m\u001b[43mfrom_this_thread\u001b[49m\u001b[43m,\u001b[49m\u001b[43m \u001b[49m\u001b[43mframes_tracker\u001b[49m\u001b[43m)\u001b[49m\n\u001b[1;32m   2072\u001b[0m frames_list \u001b[38;5;241m=\u001b[39m \u001b[38;5;28;01mNone\u001b[39;00m\n\u001b[1;32m   2074\u001b[0m \u001b[38;5;28;01mif\u001b[39;00m keep_suspended:\n\u001b[1;32m   2075\u001b[0m     \u001b[38;5;66;03m# This means that we should pause again after a set next statement.\u001b[39;00m\n",
      "File \u001b[0;32m~/.local/lib/python3.10/site-packages/debugpy/_vendored/pydevd/pydevd.py:2106\u001b[0m, in \u001b[0;36mPyDB._do_wait_suspend\u001b[0;34m(self, thread, frame, event, arg, suspend_type, from_this_thread, frames_tracker)\u001b[0m\n\u001b[1;32m   2103\u001b[0m         \u001b[38;5;28mself\u001b[39m\u001b[38;5;241m.\u001b[39m_call_input_hook()\n\u001b[1;32m   2105\u001b[0m     \u001b[38;5;28mself\u001b[39m\u001b[38;5;241m.\u001b[39mprocess_internal_commands()\n\u001b[0;32m-> 2106\u001b[0m     \u001b[43mtime\u001b[49m\u001b[38;5;241;43m.\u001b[39;49m\u001b[43msleep\u001b[49m\u001b[43m(\u001b[49m\u001b[38;5;241;43m0.01\u001b[39;49m\u001b[43m)\u001b[49m\n\u001b[1;32m   2108\u001b[0m \u001b[38;5;28mself\u001b[39m\u001b[38;5;241m.\u001b[39mcancel_async_evaluation(get_current_thread_id(thread), \u001b[38;5;28mstr\u001b[39m(\u001b[38;5;28mid\u001b[39m(frame)))\n\u001b[1;32m   2110\u001b[0m \u001b[38;5;66;03m# process any stepping instructions\u001b[39;00m\n",
      "\u001b[0;31mKeyboardInterrupt\u001b[0m: "
     ]
    },
    {
     "data": {
      "image/png": "[encoded data removed]",
      "text/plain": [
       "<Figure size 900x600 with 2 Axes>"
      ]
     },
     "metadata": {},
     "output_type": "display_data"
    }
   ],
   "source": [
    "# Create figure subplot\n",
    "plt.figure()\n",
    "figplot1 = plt.subplot(1, 2,1)\n",
    "\n",
    "figplot2 = plt.subplot(1,2,2)\n",
    "\n",
    "# Select image\n",
    "imgID = 33\n",
    "\n",
    "# Show image\n",
    "figplot1.imshow(np.reshape(cat[:, imgID], (64, 64)).T, cmap='gray')\n",
    "figplot2.imshow(np.reshape(dog[:, imgID], (64, 64)).T, cmap='gray')\n",
    "plt.show()\n",
    "\n"
   ]
  },
  {
   "attachments": {},
   "cell_type": "markdown",
   "metadata": {},
   "source": [
    "\n",
    "Task 2: we can formulate the problem as a least-squares problem of minimizing norm(X_trian x-y_train). Suggestion: use the Moore-Penrose Pseudoinverse."
   ]
  },
  {
   "cell_type": "code",
   "execution_count": 28,
   "metadata": {},
   "outputs": [
    {
     "name": "stdout",
     "output_type": "stream",
     "text": [
      "[ 1.  1. -1. -1. -1.  1. -1. -1. -1.  1. -1.  1. -1. -1.  1.  1.  1.  1.\n",
      " -1.  1.  1. -1. -1. -1. -1. -1. -1.  1. -1. -1. -1. -1. -1. -1. -1. -1.\n",
      "  1. -1. -1. -1.]\n"
     ]
    }
   ],
   "source": [
    "## TEST LS (L2 NORM) WITHOUT REGULARIZATION\n",
    "\n",
    "# Define A matrix solving the problem in LS sense\n",
    "#linRegrObj = linear_model.LinearRegression.fit(X_train, y_train)\n",
    "# Nope: use np pinv with X train and y_train\n",
    "\n",
    "estimL2noReg = np.linalg.pinv(X_train.T) @ y_train # TO DO: check what pinv does in numpy doc\n",
    "\n",
    "# IMPORTANT: the Least Squares problem here must be considered as \"regression\" used for classification \n",
    "# The input data matrix constitutes the model of the problem (regressors).\n",
    "# A is the solution of the problem obtained by solving X^-1*y with an appropriate Linear Algebra method (e.g. pinv)\n",
    "# Specifically, the data matrix contains one image of cats/dogs per column.\n",
    "\n",
    "# Check the sign of the output on the X_test dataset\n",
    "# EXPLANATION: The sign indicates whether the classification model considers each column (image) \n",
    "# as a cat or as a dog (either 1 or -1). The linear regression over the pixels basically determines \n",
    "# a \"hyperline\" which dimension equal to the number of pixels (the A estimator). The application of A\n",
    "# to new data X_test evaluates (\"classify\") whether each new pixel column in X_test is near \"dog\" or \"cat\".\n",
    "# The clear limitation: the model is linear and is not really capable of classifying complex image contents.\n",
    "# Recall that this is infact what Lovera showed as introduction to ML during ELA 2022/2023 course.\n",
    "\n",
    "validationOutputLabelsL2 = np.sign( estimL2noReg @ X_test ) \n",
    "\n",
    "# TO DO: how to distinguish whether 1 and -1 correspond to cat and dogs?\n",
    "# See labels: cat=1, dog=-1\n",
    "\n",
    "truthValues = np.concatenate((np.ones(20), -np.ones(20)), axis=0)\n",
    "print(validationOutputLabels)\n",
    "\n",
    "# Lambda function syntax: lambda input1, input2: function_implementation_line\n",
    "computeAccuracyPerc = lambda validationOutputLabels: 100 * (np.sum((truthValues - validationOutputLabels) == 0))/len(truthValues)\n",
    "\n",
    "# Compute error percentage\n",
    "correctPercL2 = computeAccuracyPerc(validationOutputLabelsL2)\n"
   ]
  },
  {
   "attachments": {},
   "cell_type": "markdown",
   "metadata": {},
   "source": [
    "\n",
    "Task 3: we can formulate the problem as a least-squares problem plus a $\\ell_1$ regularization (Lasso). Suggestion: use the command linear_model.Lasso(alpha=0.1)."
   ]
  },
  {
   "cell_type": "code",
   "execution_count": 47,
   "metadata": {},
   "outputs": [
    {
     "data": {
      "text/plain": [
       "'Accuracy scores: \\n Non-regularized L2: 67.50 \\n Ridge regression (L2 with Tikhonov): 70.00 \\n Lasso regression (L2 with L1 regularization): 67.50'"
      ]
     },
     "execution_count": 47,
     "metadata": {},
     "output_type": "execute_result"
    }
   ],
   "source": [
    "## TEST LS (L2 NORM) USING LASSO REGULARIZATION\n",
    "# TO DO: check what Lasso regularization does\n",
    "alphaParam = 0.4\n",
    "regressorL2Lasso = linear_model.Lasso(alphaParam) # TO DO: Check what are the inputs to the model \n",
    "regressorL2Lasso.fit(X_train.T, y_train) # Note: sklearn uses the opposite convention of the data matrix: features are along columns, samples along \n",
    "\n",
    "regrRidge = linear_model.RidgeClassifier(alphaParam)\n",
    "regrRidge.fit(X_train.T, y_train)\n",
    "\n",
    "# Test linear classification with Lasso on the test data matrix\n",
    "\n",
    "validationOutputLabelsLasso = np.sign(regressorL2Lasso.predict(X_test.T)) # Make inference over data set using L2Lasso regressor\n",
    "validationOutputLabelsRigde = np.sign(regrRidge.predict(X_test.T)) # Make inference over data set using L2Lasso regressor\n",
    "\n",
    "# Compute accuracy of Lasso regression for classification\n",
    "correctPercLasso = computeAccuracyPerc(validationOutputLabelsLasso) \n",
    "correctPercRidge = computeAccuracyPerc(validationOutputLabelsRigde) \n",
    "\n",
    "'Accuracy scores: \\n Non-regularized L2: {:3.2f} \\n Ridge regression (L2 with Tikhonov): {:3.2f} \\n Lasso regression (L2 with L1 regularization): {:3.2f}'.format(correctPercL2, correctPercLasso, correctPercRidge)\n"
   ]
  },
  {
   "attachments": {},
   "cell_type": "markdown",
   "metadata": {},
   "source": [
    "\n",
    "Task 3: implement a single layer (two neurons) neural network to classify the pictures."
   ]
  },
  {
   "cell_type": "code",
   "execution_count": 49,
   "metadata": {},
   "outputs": [],
   "source": [
    "# Keras NN\n",
    "\n",
    "from keras.models import Sequential   # importing Sequential model\n",
    "from keras.layers import Dense        # importing Dense layers\n",
    "\n",
    "# Prepare input train and test data by normalizing the input values (256 is the maximum value in 8 bits images)\n",
    "X_tf_train = tf.constant(  np.transpose(X_train)/256, dtype = tf.float32 )\n",
    "X_tf_test = tf.constant( np.transpose(X_test)/256, dtype = tf.float32 )\n",
    "\n",
    "y = np.array([[1,0],[0,1]])\n",
    "\n",
    "y_tf_train = tf.constant( np.repeat(y, [60, 60], axis=0) , dtype = tf.float32 )\n",
    "y_tf_test = tf.constant( np.repeat(y, [20, 20], axis=0) , dtype = tf.float32 )\n"
   ]
  },
  {
   "cell_type": "code",
   "execution_count": null,
   "metadata": {},
   "outputs": [],
   "source": [
    "# DNN architecture construction\n",
    "DNNclassifier_model = Sequential()\n",
    "\n",
    "# Adding layers to the model\n",
    "# DNNclassifier_model.add(Dense(  ...   ))\n",
    "\n",
    "\n",
    "#DNNclassifier_model.compile(loss = ... )\n",
    "\n",
    "# training the model\n",
    "# DNNclassifier_model.fit(  )\n",
    "\n",
    "# Test, Loss and accuracy\n",
    "loss_and_metrics = DNNclassifier_model.evaluate(X_tf_test, y_tf_test)\n",
    "print('Loss = ',loss_and_metrics[0])\n",
    "print('Accuracy = ',loss_and_metrics[1])\n"
   ]
  },
  {
   "cell_type": "code",
   "execution_count": null,
   "metadata": {},
   "outputs": [],
   "source": [
    "\n",
    "\n",
    "fig,axs = plt.subplots(4,1)\n",
    "axs[0].bar(range(len(test_labels)),y_test)\n",
    "NNpred = np.sign(np.array(-1.0 +2.0*DNNclassifier_model(X_tf_test).numpy()))\n",
    "#NNpred = (tf.argmax(DNNclassifier_model(X_tf_test),axis=1).numpy())\n",
    "axs[1].bar(range(len(test_labels)),NNpred[:,0])\n",
    "axs[1].set_title('Single neuron')\n",
    "axs[2].bar(range(len(test_labels)),test_labels)\n",
    "axs[2].set_title('regression')\n",
    "axs[3].bar(range(len(test_labels)),test_labels_lasso)\n",
    "axs[3].set_title('lasso')\n",
    "plt.show()\n"
   ]
  }
 ],
 "metadata": {
  "kernelspec": {
   "display_name": "teachenv",
   "language": "python",
   "name": "python3"
  },
  "language_info": {
   "codemirror_mode": {
    "name": "ipython",
    "version": 3
   },
   "file_extension": ".py",
   "mimetype": "text/x-python",
   "name": "python",
   "nbconvert_exporter": "python",
   "pygments_lexer": "ipython3",
   "version": "3.10.12"
  },
  "orig_nbformat": 4
 },
 "nbformat": 4,
 "nbformat_minor": 2
}
