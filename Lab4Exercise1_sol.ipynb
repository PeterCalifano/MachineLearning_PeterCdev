{
 "cells": [
  {
   "attachments": {},
   "cell_type": "markdown",
   "metadata": {},
   "source": [
    "# Exercises: neural network review/introduction\n",
    "\n",
    "Exercise on classification using NN. \n",
    "\n",
    "Author: Stefano Pagani <stefano.pagani@polimi.it>.\n",
    "\n",
    "Date: 2024\n",
    "\n",
    "Course: Mathematical and numerical foundations of scientific machine learning."
   ]
  },
  {
   "attachments": {},
   "cell_type": "markdown",
   "metadata": {},
   "source": [
    "Example adapted from:\n",
    "[1] Brunton, S. L., & Kutz, J. N. (2022).\n",
    "Data-driven science and engineering: Machine learning,\n",
    "dynamical systems, and control. Cambridge University Press.\n",
    "Data from [1].\n"
   ]
  },
  {
   "cell_type": "code",
   "execution_count": null,
   "metadata": {},
   "outputs": [],
   "source": [
    "\n",
    "# imports\n",
    "\n",
    "import numpy as np\n",
    "import matplotlib.pyplot as plt\n",
    "from matplotlib import rcParams\n",
    "from scipy import io\n",
    "import os\n",
    "from sklearn import linear_model\n",
    "import tensorflow as tf\n",
    "from tensorflow import keras\n",
    "\n",
    "from keras import layers\n",
    "from keras import regularizers\n",
    "from keras.utils import to_categorical\n",
    "\n"
   ]
  },
  {
   "cell_type": "code",
   "execution_count": null,
   "metadata": {},
   "outputs": [],
   "source": [
    "\n",
    "\n",
    "# Read dataset\n",
    "rcParams.update({'font.size': 18})\n",
    "plt.rcParams['figure.figsize'] = [9, 6]\n",
    "\n",
    "dogdata_mat = io.loadmat(os.path.join('DATA','dogData.mat'))\n",
    "catdata_mat = io.loadmat(os.path.join('DATA','catData.mat'))\n",
    "\n",
    "dog = dogdata_mat['dog']\n",
    "cat = catdata_mat['cat']\n",
    "\n",
    "CD = np.concatenate((dog,cat),axis=1)\n",
    "\n",
    "X_train =np.concatenate((dog[:,:60],cat[:,:60]),axis=1)\n",
    "X_test = np.concatenate((dog[:,60:80],cat[:,60:80]),axis=1)\n",
    "y_train = np.repeat(np.array([1,-1]),60)\n",
    "y_test = np.repeat(np.array([1,-1]),20)\n",
    "\n"
   ]
  },
  {
   "attachments": {},
   "cell_type": "markdown",
   "metadata": {},
   "source": [
    "\n",
    "Task 1: visualize some pictures from the training set"
   ]
  },
  {
   "cell_type": "code",
   "execution_count": null,
   "metadata": {},
   "outputs": [],
   "source": [
    "\n",
    "\n",
    "plt.figure()\n",
    "\n",
    "indp = 33\n",
    "\n",
    "plt.imshow(np.reshape(X_train[:,indp],(64,64)).T,cmap='gray')\n",
    "plt.title('Train picture')\n",
    "plt.pause(1.0)\n",
    "\n",
    "\n",
    "indp = 101\n",
    "\n",
    "plt.imshow(np.reshape(X_train[:,indp],(64,64)).T,cmap='gray')\n",
    "plt.title('Train picture')\n",
    "plt.pause(1.0)\n",
    "\n"
   ]
  },
  {
   "attachments": {},
   "cell_type": "markdown",
   "metadata": {},
   "source": [
    "\n",
    "Task 2: we can formulate the problem as a least-squares problem of minimizing norm(X_trian x-y_train). Suggestion: use the Moore-Penrose Pseudoinverse."
   ]
  },
  {
   "cell_type": "code",
   "execution_count": null,
   "metadata": {},
   "outputs": [],
   "source": [
    "\n",
    "print(np.shape(np.linalg.pinv(X_train.T)))\n",
    "\n",
    "# \\ell_2 misfit loss: use pinv\n",
    "A = np.linalg.pinv(X_train.T) @ y_train.T \n",
    "test_labels = np.sign( A @ X_test )\n",
    "\n",
    "\n",
    "print(test_labels)\n",
    "\n"
   ]
  },
  {
   "attachments": {},
   "cell_type": "markdown",
   "metadata": {},
   "source": [
    "\n",
    "Task 3: we can formulate the problem as a least-squares problem plus a $\\ell_1$ regularization (Lasso). Suggestion: use the command linear_model.Lasso(alpha=0.1)."
   ]
  },
  {
   "cell_type": "code",
   "execution_count": null,
   "metadata": {},
   "outputs": [],
   "source": [
    "\n",
    "\n",
    "# # \\ell_2 misfit loss + weight \\ell1 regularization: use lasso\n",
    "lasso = (linear_model.Lasso(alpha=0.1)).fit(X_train.T,y_train)\n",
    "A_lasso = lasso.coef_\n",
    "test_labels_lasso = np.sign(A_lasso@X_test)\n",
    "\n",
    "print(test_labels_lasso)\n",
    "\n"
   ]
  },
  {
   "attachments": {},
   "cell_type": "markdown",
   "metadata": {},
   "source": [
    "\n",
    "Task 3: implement a single layer (two neurons) neural network to classify the pictures."
   ]
  },
  {
   "cell_type": "code",
   "execution_count": null,
   "metadata": {},
   "outputs": [],
   "source": [
    "\n",
    "# Keras NN\n",
    "\n",
    "from keras.models import Sequential   # importing Sequential model\n",
    "from keras.layers import Dense        # importing Dense layers\n",
    "\n",
    "X_tf_train = tf.constant(  np.transpose(X_train)/256, dtype = tf.float32 )\n",
    "X_tf_test = tf.constant( np.transpose(X_test)/256, dtype = tf.float32 )\n",
    "# y_tf_train = tf.constant( np.repeat(np.array([1,0]),60) , dtype = tf.float32 )\n",
    "# y_tf_test = tf.constant( np.repeat(np.array([1,0]),20), dtype = tf.float32 )\n",
    "\n",
    "y = np.array([[1,0],[0,1]])\n",
    "\n",
    "y_tf_train = tf.constant( np.repeat(y, [60, 60], axis=0) , dtype = tf.float32 )\n",
    "y_tf_test = tf.constant( np.repeat(y, [20, 20], axis=0) , dtype = tf.float32 )\n"
   ]
  },
  {
   "cell_type": "code",
   "execution_count": null,
   "metadata": {},
   "outputs": [],
   "source": [
    "\n",
    "# declaring model\n",
    "basic_model = Sequential()\n",
    "\n",
    "# Adding layers to the model\n",
    "basic_model.add(Dense(units = 2 , activation = 'softmax', input_shape = (64*64,)))#kernel_regularizer = regularizers.l1(0.0025)))\n",
    "\n",
    "sgd = keras.optimizers.SGD(learning_rate=0.1, momentum=0.9, nesterov=True)\n",
    "basic_model.compile(loss = 'categorical_crossentropy', optimizer = 'sgd', metrics = ['accuracy'])\n",
    "\n",
    "# training the model\n",
    "basic_model.fit(X_tf_train, y_tf_train, epochs=250)\n",
    "\n",
    "# Test, Loss and accuracy\n",
    "loss_and_metrics = basic_model.evaluate(X_tf_test, y_tf_test)\n",
    "print('Loss = ',loss_and_metrics[0])\n",
    "print('Accuracy = ',loss_and_metrics[1])\n"
   ]
  },
  {
   "cell_type": "code",
   "execution_count": null,
   "metadata": {},
   "outputs": [],
   "source": [
    "\n",
    "\n",
    "fig,axs = plt.subplots(4,1)\n",
    "axs[0].bar(range(len(test_labels)),y_test)\n",
    "NNpred = np.sign(np.array(-1.0 +2.0*basic_model(X_tf_test).numpy()))\n",
    "#NNpred = (tf.argmax(basic_model(X_tf_test),axis=1).numpy())\n",
    "axs[1].bar(range(len(test_labels)),NNpred[:,0])\n",
    "axs[1].set_title('Single neuron')\n",
    "axs[2].bar(range(len(test_labels)),test_labels)\n",
    "axs[2].set_title('regression')\n",
    "axs[3].bar(range(len(test_labels)),test_labels_lasso)\n",
    "axs[3].set_title('lasso')\n",
    "plt.show()\n"
   ]
  }
 ],
 "metadata": {
  "kernelspec": {
   "display_name": "teachenv",
   "language": "python",
   "name": "python3"
  },
  "language_info": {
   "codemirror_mode": {
    "name": "ipython",
    "version": 3
   },
   "file_extension": ".py",
   "mimetype": "text/x-python",
   "name": "python",
   "nbconvert_exporter": "python",
   "pygments_lexer": "ipython3",
   "version": "3.9.13"
  },
  "orig_nbformat": 4
 },
 "nbformat": 4,
 "nbformat_minor": 2
}
