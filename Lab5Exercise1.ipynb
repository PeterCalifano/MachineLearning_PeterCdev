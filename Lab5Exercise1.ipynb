{
  "cells": [
    {
      "cell_type": "markdown",
      "metadata": {
        "id": "9QxtRkHFzOQi"
      },
      "source": [
        "# Exercises: physics-informed neural network\n",
        "\n",
        "Exercise on the implementation of physics-informed neural network. \n",
        "\n",
        "Author: Stefano Pagani <stefano.pagani@polimi.it>.\n",
        "\n",
        "Date: 2024\n",
        "\n",
        "Course: Mathematical and numerical foundations of scientific machine learning.\n",
        "\n",
        "Example adapted from this [notebook](https://colab.research.google.com/drive/1qBrbgevkSBqqYc8bOPiaoJG1MBrBrluN?usp=share_link). "
      ]
    },
    {
      "cell_type": "markdown",
      "metadata": {},
      "source": [
        "\n",
        "Let us consider the problem\n",
        "\n",
        "\\begin{aligned}\n",
        "  & -\\nu \\Delta u = -2(x^2+y^2)  \\,, \\quad (x,y) \\in [-1,1] \\times [-1,1]\\,,\\\\\n",
        "  & u(x,-1) = u(x,1) = -x^2 \\,, \\quad -1 < x < 1\\,, \\\\\n",
        "  & u(-1,y) = u(1,y) = -y^2 \\,, \\quad -1 < y < 1\\,, \\\\\n",
        "\\end{aligned}\n",
        "\n",
        "where $\\nu=1$. We consider the PINN framework for solving this PDE."
      ]
    },
    {
      "cell_type": "code",
      "execution_count": 21,
      "metadata": {
        "colab": {
          "base_uri": "https://localhost:8080/"
        },
        "id": "XJzSWQcWh85s",
        "outputId": "ee195e0f-9d72-4568-b886-cba89af5b1a1"
      },
      "outputs": [],
      "source": [
        "# import required libraries\n",
        "\n",
        "import tensorflow as tf\n",
        "import numpy as np\n",
        "import scipy.io\n",
        "from tensorflow import keras\n",
        "import matplotlib.pyplot as plt\n",
        "from mpl_toolkits.axes_grid1 import make_axes_locatable\n",
        "#!pip -q install pyDOE\n",
        "from pyDOE import lhs  # for latin hypercube sampling\n"
      ]
    },
    {
      "cell_type": "markdown",
      "metadata": {},
      "source": [
        "# Solution"
      ]
    },
    {
      "cell_type": "code",
      "execution_count": 22,
      "metadata": {},
      "outputs": [
        {
          "data": {
            "text/plain": [
              "<matplotlib.colorbar.Colorbar at 0x7fa9d062f2b0>"
            ]
          },
          "execution_count": 22,
          "metadata": {},
          "output_type": "execute_result"
        },
        {
          "data": {
            "image/png": "[encoded data removed]",
            "text/plain": [
              "<Figure size 432x288 with 2 Axes>"
            ]
          },
          "metadata": {
            "needs_background": "light"
          },
          "output_type": "display_data"
        }
      ],
      "source": [
        "# Plot exact solution of PDE\n",
        "nu = 1.0 # diffusion parameter (truth)\n",
        "\n",
        "# Define grid for sampling the exact solution\n",
        "N_h = 128\n",
        "ux = np.linspace(-1.0,1.0,N_h)\n",
        "uy = np.linspace (-1.0,1.0,N_h)\n",
        "\n",
        "# Sampling loop --> Collocation points (NOTE: this represents the truth of the problem)\n",
        "u_true = np.zeros([N_h,N_h])\n",
        "for i in range(N_h):\n",
        "    u_true[:,i] = (ux[i]**2)*(uy**2)\n",
        "\n",
        "X_plot,Y_plot = np.meshgrid(ux,uy)\n",
        "plt.pcolor(X_plot, Y_plot, u_true)\n",
        "plt.axis('equal')\n",
        "plt.colorbar()\n",
        "\n"
      ]
    },
    {
      "cell_type": "code",
      "execution_count": 23,
      "metadata": {},
      "outputs": [],
      "source": [
        "# Flatten grid and solution (to have a 1D array representation of the data)\n",
        "X,Y = np.meshgrid(ux,uy)\n",
        "X_flat = tf.convert_to_tensor(np.hstack((X.flatten()[:,None],Y.flatten()[:,None])),dtype=tf.float64)\n",
        "u_flat = u_true.T.flatten()"
      ]
    },
    {
      "cell_type": "code",
      "execution_count": 24,
      "metadata": {},
      "outputs": [
        {
          "data": {
            "text/plain": [
              "(16384,)"
            ]
          },
          "execution_count": 24,
          "metadata": {},
          "output_type": "execute_result"
        }
      ],
      "source": [
        "#np.shape(u_true) \n",
        "\n",
        "np.shape(u_flat)"
      ]
    },
    {
      "cell_type": "code",
      "execution_count": 25,
      "metadata": {
        "id": "wqZ_fC-1KON_"
      },
      "outputs": [],
      "source": [
        "# PINN loss function definition\n",
        "def loss(xcl,ycl,xlb,ylb,ulb,xub,yub,uub,xleft,yleft,uleft,xright,yright,uright):\n",
        "    #u0_pred  = PINN(tf.concat([x0,t0],1))\n",
        "    # TODO: what concat does? vectors xln, ylb concatenation I guess, on the first axis\n",
        "    ulb_pred = PINN(tf.concat([xlb,ylb],1))\n",
        "    uub_pred = PINN(tf.concat([xub,yub],1))\n",
        "    uleft_pred = PINN(tf.concat([xleft,yleft],1))\n",
        "    uright_pred = PINN(tf.concat([xright,yright],1))\n",
        "    r_pred   = r_PINN(xcl,ycl)\n",
        "\n",
        "    # loss components\n",
        "    #mse_0  = tf.reduce_mean(tf.pow(u0-u0_pred,2))\n",
        "    # TODO: check what reduce_mean does? --> Compute mean over axis specified by the second function input\n",
        "    # DEFAULT: axis=None --> mean over ALL dims squeezing the N rank tensor to a scalar tensor\n",
        "    mse_lb = tf.reduce_mean(tf.pow(ulb_pred-ulb,2)) # MSE error at Upper bound\n",
        "    mse_ub = tf.reduce_mean(tf.pow(uub_pred-uub,2)) # MSE error at Lower bound\n",
        "    mse_left = tf.reduce_mean(tf.pow(uleft_pred-uleft,2)) # MSE error at left bound\n",
        "    mse_right = tf.reduce_mean(tf.pow(uright_pred-uright,2)) # MSE error at right bound\n",
        "    mse_r  = tf.reduce_mean(tf.pow(r_pred,2)) # MSE of residuals of output wrt PDE solution\n",
        "\n",
        "    return mse_r+mse_lb+mse_ub+mse_left+mse_right #mse_0+mse_r+mse_lb+mse_ub\n",
        "\n",
        "# Neural Network Weight Gradients: define function to make Tensorflow computing the gradient of the loss function\n",
        "@tf.function(jit_compile=True) # jit_compile added \n",
        "def grad(model,xcl,ycl,xlb,ylb,ulb,xub,yub,uub,xleft,yleft,uleft,xright,yright,uright):\n",
        "    with tf.GradientTape(persistent=True) as tape:\n",
        "        # Evaluate the loss function in all the available points (boundary)\n",
        "        loss_value = loss(xcl,ycl,xlb,ylb,ulb,xub,yub,uub,xleft,yleft,uleft,xright,yright,uright)\n",
        "        grads = tape.gradient(loss_value,model.trainable_variables) \n",
        "        # Tensorflow can output gradients of the loss funciton automatically with respect to the \"trainable_variables\"\n",
        "    return loss_value, grads"
      ]
    },
    {
      "cell_type": "code",
      "execution_count": 26,
      "metadata": {
        "id": "cXUPXsj0KUK0"
      },
      "outputs": [],
      "source": [
        "# Collocation points for PDE \"enforcing\"\n",
        "Ncl = 2000\n",
        "X = lhs(2,Ncl) # Latin Hypercube sampling of dimension N=2 and Ncl samples\n",
        "# TODO: check documentation of expand_dims function\n",
        "# cast simply casts from input dtype to specified dtype\n",
        "# expand_dims expands the array adding a dimension (fixed to length 1) in axis specified by second input (no default)\n",
        "xcl = tf.expand_dims(tf.cast(-1.0+(2.0)*X[:,0], dtype=tf.float64),axis=-1) # Expand collocation points to tensors\n",
        "ycl = tf.expand_dims(tf.cast(-1.0+(2.0)*X[:,1], dtype=tf.float64),axis=-1)\n",
        "X_coll = tf.concat([xcl,ycl],1)\n",
        "\n",
        "\n",
        "# Dirichlet boundary condition points --> Simulate samples for the training (on the boundary)\n",
        "Nb = 500 # Number of samples on the boundary\n",
        "X = lhs(1,Nb)\n",
        "ylb = tf.expand_dims(tf.cast(-1.0+(2.0)*X[:,0],dtype=tf.float64),axis=-1)\n",
        "xlb = -1.0*tf.ones(tf.shape(ylb),dtype=tf.float64)\n",
        "ulb = (xlb**2)*(ylb**2)\n",
        "X_lb = tf.concat([xlb,ylb],1)\n",
        "\n",
        "X = lhs(1,Nb)\n",
        "yub = tf.expand_dims(tf.cast(-1.0+(2.0)*X[:,0],dtype=tf.float64),axis=-1)\n",
        "xub = 1.0*tf.ones(tf.shape(yub),dtype=tf.float64)\n",
        "uub = (xub**2)*(yub**2)\n",
        "X_ub = tf.concat([xub,yub],1)\n",
        "\n",
        "Y = lhs(1,Nb)\n",
        "xleft = tf.expand_dims(tf.cast(-1.0+(2.0)*Y[:,0],dtype=tf.float64),axis=-1)\n",
        "yleft = -1.0*tf.ones(tf.shape(xleft),dtype=tf.float64)\n",
        "uleft = (xleft**2)*(yleft**2)\n",
        "X_left = tf.concat([xleft,yleft],1)\n",
        "\n",
        "Y = lhs(1,Nb)\n",
        "xright = tf.expand_dims(tf.cast(-1.0+(2.0)*Y[:,0],dtype=tf.float64),axis=-1)\n",
        "yright = 1.0*tf.ones(tf.shape(xright),dtype=tf.float64)\n",
        "uright = (xright**2)*(yright**2)\n",
        "X_right = tf.concat([xright,yright],1)\n",
        "\n"
      ]
    },
    {
      "cell_type": "code",
      "execution_count": 27,
      "metadata": {
        "colab": {
          "base_uri": "https://localhost:8080/",
          "height": 1000
        },
        "id": "z_cOmQDHKX4k",
        "outputId": "b270d41b-5706-4998-8216-ef717ba49ab1"
      },
      "outputs": [],
      "source": [
        "# Training loop\n",
        "# NOTE: differentiability of the activation function is key for PINNs training: this is why tanh is one common way to go\n",
        "\n",
        "# Define the network architecture object\n",
        "# Check keras.Sequential class (what are the options?)\n",
        "PINN = tf.keras.Sequential([\n",
        "    tf.keras.layers.Dense(8, activation='tanh', input_shape=(2,),kernel_initializer=\"glorot_normal\",dtype=tf.float64),\n",
        "    tf.keras.layers.Dense(32, activation='tanh',kernel_initializer=\"glorot_normal\",dtype=tf.float64),\n",
        "    tf.keras.layers.Dense(1,activation=None,kernel_initializer=\"glorot_normal\",dtype=tf.float64)\n",
        "])\n",
        "\n"
      ]
    },
    {
      "cell_type": "code",
      "execution_count": 31,
      "metadata": {},
      "outputs": [
        {
          "ename": "StagingError",
          "evalue": "in user code:\n\n    File \"/tmp/ipykernel_15055/2547081489.py\", line 29, in grad  *\n        grads = tape.gradient(loss_value,model.trainable_variables)\n\n    LookupError: No gradient defined for operation'gradients/gradients_3/concat_grad/Slice_1_grad/XlaDynamicUpdateSlice' (op type: XlaDynamicUpdateSlice). In general every operation must have an associated `@tf.RegisterGradient` for correct autodiff, which this op is lacking. If you want to pretend this operation is a constant in your program, you may insert `tf.stop_gradient`. This can be useful to silence the error in cases where you know gradients are not needed, e.g. the forward pass of tf.custom_gradient. Please see more details in https://www.tensorflow.org/api_docs/python/tf/custom_gradient.\n",
          "output_type": "error",
          "traceback": [
            "\u001b[0;31m---------------------------------------------------------------------------\u001b[0m",
            "\u001b[0;31mStagingError\u001b[0m                              Traceback (most recent call last)",
            "\u001b[0;32m/tmp/ipykernel_15055/2200407932.py\u001b[0m in \u001b[0;36m<module>\u001b[0;34m\u001b[0m\n\u001b[1;32m     18\u001b[0m \u001b[0;34m\u001b[0m\u001b[0m\n\u001b[1;32m     19\u001b[0m   \u001b[0;31m# compute gradients using AD\u001b[0m\u001b[0;34m\u001b[0m\u001b[0;34m\u001b[0m\u001b[0m\n\u001b[0;32m---> 20\u001b[0;31m   \u001b[0mloss_value\u001b[0m\u001b[0;34m,\u001b[0m\u001b[0mgrads\u001b[0m \u001b[0;34m=\u001b[0m \u001b[0mgrad\u001b[0m\u001b[0;34m(\u001b[0m\u001b[0mPINN\u001b[0m\u001b[0;34m,\u001b[0m\u001b[0mxcl\u001b[0m\u001b[0;34m,\u001b[0m\u001b[0mycl\u001b[0m\u001b[0;34m,\u001b[0m\u001b[0mxlb\u001b[0m\u001b[0;34m,\u001b[0m\u001b[0mylb\u001b[0m\u001b[0;34m,\u001b[0m\u001b[0mulb\u001b[0m\u001b[0;34m,\u001b[0m\u001b[0mxub\u001b[0m\u001b[0;34m,\u001b[0m\u001b[0myub\u001b[0m\u001b[0;34m,\u001b[0m\u001b[0muub\u001b[0m\u001b[0;34m,\u001b[0m\u001b[0mxleft\u001b[0m\u001b[0;34m,\u001b[0m\u001b[0myleft\u001b[0m\u001b[0;34m,\u001b[0m\u001b[0muleft\u001b[0m\u001b[0;34m,\u001b[0m\u001b[0mxright\u001b[0m\u001b[0;34m,\u001b[0m\u001b[0myright\u001b[0m\u001b[0;34m,\u001b[0m\u001b[0muright\u001b[0m\u001b[0;34m)\u001b[0m\u001b[0;34m\u001b[0m\u001b[0;34m\u001b[0m\u001b[0m\n\u001b[0m\u001b[1;32m     21\u001b[0m \u001b[0;34m\u001b[0m\u001b[0m\n\u001b[1;32m     22\u001b[0m   \u001b[0;31m# update neural network weights\u001b[0m\u001b[0;34m\u001b[0m\u001b[0;34m\u001b[0m\u001b[0m\n",
            "\u001b[0;32m~/.local/lib/python3.10/site-packages/tensorflow/python/util/traceback_utils.py\u001b[0m in \u001b[0;36merror_handler\u001b[0;34m(*args, **kwargs)\u001b[0m\n\u001b[1;32m    151\u001b[0m     \u001b[0;32mexcept\u001b[0m \u001b[0mException\u001b[0m \u001b[0;32mas\u001b[0m \u001b[0me\u001b[0m\u001b[0;34m:\u001b[0m\u001b[0;34m\u001b[0m\u001b[0;34m\u001b[0m\u001b[0m\n\u001b[1;32m    152\u001b[0m       \u001b[0mfiltered_tb\u001b[0m \u001b[0;34m=\u001b[0m \u001b[0m_process_traceback_frames\u001b[0m\u001b[0;34m(\u001b[0m\u001b[0me\u001b[0m\u001b[0;34m.\u001b[0m\u001b[0m__traceback__\u001b[0m\u001b[0;34m)\u001b[0m\u001b[0;34m\u001b[0m\u001b[0;34m\u001b[0m\u001b[0m\n\u001b[0;32m--> 153\u001b[0;31m       \u001b[0;32mraise\u001b[0m \u001b[0me\u001b[0m\u001b[0;34m.\u001b[0m\u001b[0mwith_traceback\u001b[0m\u001b[0;34m(\u001b[0m\u001b[0mfiltered_tb\u001b[0m\u001b[0;34m)\u001b[0m \u001b[0;32mfrom\u001b[0m \u001b[0;32mNone\u001b[0m\u001b[0;34m\u001b[0m\u001b[0;34m\u001b[0m\u001b[0m\n\u001b[0m\u001b[1;32m    154\u001b[0m     \u001b[0;32mfinally\u001b[0m\u001b[0;34m:\u001b[0m\u001b[0;34m\u001b[0m\u001b[0;34m\u001b[0m\u001b[0m\n\u001b[1;32m    155\u001b[0m       \u001b[0;32mdel\u001b[0m \u001b[0mfiltered_tb\u001b[0m\u001b[0;34m\u001b[0m\u001b[0;34m\u001b[0m\u001b[0m\n",
            "\u001b[0;32m~/.local/lib/python3.10/site-packages/tensorflow/python/eager/polymorphic_function/autograph_util.py\u001b[0m in \u001b[0;36mautograph_handler\u001b[0;34m(*args, **kwargs)\u001b[0m\n\u001b[1;32m     50\u001b[0m     \u001b[0;32mexcept\u001b[0m \u001b[0mException\u001b[0m \u001b[0;32mas\u001b[0m \u001b[0me\u001b[0m\u001b[0;34m:\u001b[0m  \u001b[0;31m# pylint:disable=broad-except\u001b[0m\u001b[0;34m\u001b[0m\u001b[0;34m\u001b[0m\u001b[0m\n\u001b[1;32m     51\u001b[0m       \u001b[0;32mif\u001b[0m \u001b[0mhasattr\u001b[0m\u001b[0;34m(\u001b[0m\u001b[0me\u001b[0m\u001b[0;34m,\u001b[0m \u001b[0;34m\"ag_error_metadata\"\u001b[0m\u001b[0;34m)\u001b[0m\u001b[0;34m:\u001b[0m\u001b[0;34m\u001b[0m\u001b[0;34m\u001b[0m\u001b[0m\n\u001b[0;32m---> 52\u001b[0;31m         \u001b[0;32mraise\u001b[0m \u001b[0me\u001b[0m\u001b[0;34m.\u001b[0m\u001b[0mag_error_metadata\u001b[0m\u001b[0;34m.\u001b[0m\u001b[0mto_exception\u001b[0m\u001b[0;34m(\u001b[0m\u001b[0me\u001b[0m\u001b[0;34m)\u001b[0m\u001b[0;34m\u001b[0m\u001b[0;34m\u001b[0m\u001b[0m\n\u001b[0m\u001b[1;32m     53\u001b[0m       \u001b[0;32melse\u001b[0m\u001b[0;34m:\u001b[0m\u001b[0;34m\u001b[0m\u001b[0;34m\u001b[0m\u001b[0m\n\u001b[1;32m     54\u001b[0m         \u001b[0;32mraise\u001b[0m\u001b[0;34m\u001b[0m\u001b[0;34m\u001b[0m\u001b[0m\n",
            "\u001b[0;31mStagingError\u001b[0m: in user code:\n\n    File \"/tmp/ipykernel_15055/2547081489.py\", line 29, in grad  *\n        grads = tape.gradient(loss_value,model.trainable_variables)\n\n    LookupError: No gradient defined for operation'gradients/gradients_3/concat_grad/Slice_1_grad/XlaDynamicUpdateSlice' (op type: XlaDynamicUpdateSlice). In general every operation must have an associated `@tf.RegisterGradient` for correct autodiff, which this op is lacking. If you want to pretend this operation is a constant in your program, you may insert `tf.stop_gradient`. This can be useful to silence the error in cases where you know gradients are not needed, e.g. the forward pass of tf.custom_gradient. Please see more details in https://www.tensorflow.org/api_docs/python/tf/custom_gradient.\n"
          ]
        }
      ],
      "source": [
        "\n",
        "# Residual computation based on AD\n",
        "@tf.function\n",
        "def r_PINN(x,y):\n",
        "    u    = PINN(tf.concat([x,y], 1))\n",
        "    u_x  = tf.gradients(u,x)[0]\n",
        "    u_xx = tf.gradients(u_x, x)[0] # Second partial derivative of u wrt x\n",
        "    u_y  = tf.gradients(u,y)[0]\n",
        "    u_yy = tf.gradients(u_y, y)[0]\n",
        "    return - u_xx - u_yy + 2.0*( tf.pow(x,2) + tf.pow(y,2) ) # PDE in the form of F(x)=0 (TBC)\n",
        "# Check type of equation --> it seems like Laplace + source: Poisson?\n",
        "\n",
        "\n",
        "# Adam optimizer\n",
        "tf_optimizer = tf.keras.optimizers.Adam(learning_rate=0.003,beta_1=0.99)\n",
        "\n",
        "for iter in range(5000):\n",
        "\n",
        "  # compute gradients using AD\n",
        "  loss_value,grads = grad(PINN,xcl,ycl,xlb,ylb,ulb,xub,yub,uub,xleft,yleft,uleft,xright,yright,uright)\n",
        "\n",
        "  # update neural network weights\n",
        "  tf_optimizer.apply_gradients(zip(grads,PINN.trainable_variables))\n",
        "\n",
        "  # display intermediate results\n",
        "  if ((iter+1) % 200 == 0):\n",
        "    print('iter =  '+str(iter+1))\n",
        "    print('loss = {:.4f}'.format(loss_value))\n",
        "    PINN_flat = PINN(X_flat)\n",
        "    err = np.linalg.norm(u_flat-PINN_flat[:,-1],2)/np.linalg.norm(u_flat,2)\n",
        "    print('L2 error: %.4e' % (err))\n",
        "    "
      ]
    },
    {
      "cell_type": "code",
      "execution_count": null,
      "metadata": {
        "colab": {
          "base_uri": "https://localhost:8080/",
          "height": 443
        },
        "id": "xjbpEPkfWDJe",
        "outputId": "1a86cd1c-64a1-4080-a7cc-1267993fbedc"
      },
      "outputs": [],
      "source": [
        "#Display results\n",
        "\n",
        "fig = plt.figure(figsize=(16,9),dpi=150)\n",
        "#fig = plt.figure()\n",
        "#fig.subplots_adjust(wspace=0.3)\n",
        "plt.style.use('default')\n",
        "ax = fig.add_subplot(1,3,1)\n",
        "ax.set_aspect(1)\n",
        "im = plt.pcolor(X_plot, Y_plot, u_true)\n",
        "divider = make_axes_locatable(ax)\n",
        "cax = divider.append_axes(\"right\", size=\"5%\", pad=0.05)\n",
        "fig.colorbar(im,cax=cax)\n",
        "#ax.set_yticklabels(['-1.0','-0.6','-0.2','0.2','0.6','1.0'])\n",
        "ax.set_title('Exact Solution',fontsize=16)\n",
        "\n",
        "ax = fig.add_subplot(1,3,2)\n",
        "ax.set_aspect(1)\n",
        "im = plt.pcolor(X_plot, Y_plot, np.reshape(PINN_flat,(N_h,N_h)))\n",
        "divider = make_axes_locatable(ax)\n",
        "cax = divider.append_axes(\"right\", size=\"5%\", pad=0.05)\n",
        "fig.colorbar(im,cax=cax)\n",
        "ax.set_title('PINN Prediction'.format(err),fontsize=16)\n",
        "\n",
        "ax = fig.add_subplot(1,3,3)\n",
        "ax.set_aspect(1)\n",
        "im = plt.pcolor(X_plot, Y_plot, np.abs( np.reshape(PINN_flat,(N_h,N_h)) -u_true ) )\n",
        "divider = make_axes_locatable(ax)\n",
        "cax = divider.append_axes(\"right\", size=\"5%\", pad=0.05)\n",
        "fig.colorbar(im,cax=cax)\n",
        "ax.set_title('L2 error = {:.4f}'.format(err),fontsize=16)"
      ]
    }
  ],
  "metadata": {
    "accelerator": "GPU",
    "colab": {
      "provenance": []
    },
    "kernelspec": {
      "display_name": "Python 3",
      "language": "python",
      "name": "python3"
    },
    "language_info": {
      "codemirror_mode": {
        "name": "ipython",
        "version": 3
      },
      "file_extension": ".py",
      "mimetype": "text/x-python",
      "name": "python",
      "nbconvert_exporter": "python",
      "pygments_lexer": "ipython3",
      "version": "3.10.12"
    }
  },
  "nbformat": 4,
  "nbformat_minor": 0
}
