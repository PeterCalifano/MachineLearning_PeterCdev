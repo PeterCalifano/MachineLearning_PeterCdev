{
 "cells": [
  {
   "cell_type": "markdown",
   "metadata": {},
   "source": [
    "# Exercises: DMD\n",
    "\n",
    "Exercise on the implementation of Dynamic mode decomposition\n",
    "\n",
    "Author: Stefano Pagani <stefano.pagani@polimi.it>.\n",
    "\n",
    "Date: 2024\n",
    "\n",
    "Course: Mathematical and numerical foundations of scientific machine learning.\n"
   ]
  },
  {
   "cell_type": "code",
   "execution_count": null,
   "metadata": {},
   "outputs": [],
   "source": [
    "import numpy as np\n",
    "import matplotlib.pyplot as plt\n",
    "from matplotlib import rcParams\n",
    "from scipy import io\n",
    "import os\n",
    "\n",
    "import scipy\n",
    "import scipy.integrate\n"
   ]
  },
  {
   "cell_type": "code",
   "execution_count": null,
   "metadata": {},
   "outputs": [],
   "source": [
    "x1 = np.linspace(-3, 3, 80)\n",
    "x2 = np.linspace(-3, 3, 80)\n",
    "x1grid, x2grid = np.meshgrid(x1, x2)\n",
    "\n",
    "time = np.linspace(0, 6, 16)\n",
    "\n",
    "data = [1 / np.cosh(x1grid) / np.cosh(x2grid) * (1.2j**-t) + 1.0* np.cos(x1grid) * np.sin(x2grid) * (1.8j**-t) for t in time]\n",
    "noise = [np.random.normal(0.0, 0.2, size=x1grid.shape) for t in time]\n",
    "\n",
    "snapshots = [d + n for d, n in zip(data, noise)]\n",
    "\n",
    "fig = plt.figure(figsize=(18, 18))\n",
    "for id_subplot, snapshot in enumerate(snapshots, start=1):\n",
    "    plt.subplot(4, 4, id_subplot)\n",
    "    plt.pcolor(x1grid, x2grid, snapshot.real, vmin=-1, vmax=1)\n",
    "    plt.axis('equal')"
   ]
  },
  {
   "cell_type": "code",
   "execution_count": null,
   "metadata": {},
   "outputs": [],
   "source": [
    "# snapshot matrix\n",
    "X = np.matrix( [ (snapshots[i]).flatten() for i in np.arange(0,16,1) ] ).T\n",
    "np.shape(X)\n",
    "\n",
    "#print(np.arange(0,16,1))"
   ]
  },
  {
   "cell_type": "markdown",
   "metadata": {},
   "source": [
    "Task: implement the DMD passages"
   ]
  },
  {
   "cell_type": "code",
   "execution_count": null,
   "metadata": {},
   "outputs": [],
   "source": [
    "\n",
    "def DMD(X,Xprime,r):\n",
    "\n",
    "    # step 1: implement SVD of the snapshot matrix\n",
    "    # U,Sigma,VT = \n",
    "\n",
    "    # truncate\n",
    "    # Ur = \n",
    "    # Sigmar =\n",
    "    # VTr = \n",
    "\n",
    "    # visualize singular values decay\n",
    "    # plt.semilogy( ... )\n",
    "    \n",
    "    # step 2: compute Atilde\n",
    "\n",
    "    # Atilde =  ...\n",
    "    \n",
    "    # step 3: perform spectral decomposition\n",
    "    #Lambda, W = ...\n",
    "    \n",
    "    #step 4: compute the DMD eigen vector\n",
    "\n",
    "    #Phi =  ...\n",
    "\n",
    "    # matrix for prediction\n",
    "    alpha1 = Sigmar @ VTr[:,0]\n",
    "    b = np.linalg.solve(W @ Lambda,alpha1)\n",
    "    return Phi, Lambda, b\n",
    "\n",
    "Phi, Lambda, b = DMD(X[:,:-2],X[:,1:-1],1)\n",
    "\n"
   ]
  },
  {
   "cell_type": "code",
   "execution_count": null,
   "metadata": {},
   "outputs": [],
   "source": [
    "\n",
    "\n",
    "prediction = np.zeros((6400,32),dtype = 'complex_')\n",
    "\n",
    "A = (Phi @ Lambda @ np.linalg.pinv(Phi))\n",
    "\n",
    "print('Guess')\n",
    "\n",
    "for i in range(32):\n",
    "    if i == 0:\n",
    "        #prediction[:,i:i+1] = X[:,0]\n",
    "        prediction[:,i:i+1] = Phi @  b\n",
    "    else:\n",
    "        #prediction[:,i:i+1] =  A @ prediction[:,i-1:i]\n",
    "        prediction[:,i:i+1] = Phi @ (Lambda)**(i) @ b\n",
    "\n",
    "fig = plt.figure(figsize=(18, 18))\n",
    "for id_subplot, snapshot in enumerate(snapshots, start=1):\n",
    "    #print(id_subplot)\n",
    "    plt.subplot(4, 4, id_subplot)\n",
    "    plt.pcolor(x1grid, x2grid, np.reshape(prediction[:,id_subplot-1].real,(80,80)) , vmin=-1, vmax=1)\n",
    "    plt.axis('equal')\n",
    "\n"
   ]
  },
  {
   "cell_type": "code",
   "execution_count": null,
   "metadata": {},
   "outputs": [],
   "source": [
    "\n",
    "compute_integral = scipy.integrate.trapz\n",
    "\n",
    "original_int = [\n",
    "    compute_integral(compute_integral(snapshot)).real for snapshot in snapshots\n",
    "]\n",
    "dmd_int = [\n",
    "    compute_integral(compute_integral(np.reshape(prediction[:,i],(80,80)))).real for i in range(32)\n",
    "]\n",
    "\n",
    "figure = plt.figure(figsize=(18, 5))\n",
    "plt.plot( original_int, \"bo\", label=\"original snapshots\")\n",
    "plt.plot( dmd_int, \"r.\", label=\"dmd states\")\n",
    "plt.ylabel(\"Integral\")\n",
    "plt.xlabel(\"Time\")\n",
    "plt.grid()\n",
    "leg = plt.legend()\n"
   ]
  }
 ],
 "metadata": {
  "kernelspec": {
   "display_name": "teachenv",
   "language": "python",
   "name": "python3"
  },
  "language_info": {
   "codemirror_mode": {
    "name": "ipython",
    "version": 3
   },
   "file_extension": ".py",
   "mimetype": "text/x-python",
   "name": "python",
   "nbconvert_exporter": "python",
   "pygments_lexer": "ipython3",
   "version": "3.9.13"
  }
 },
 "nbformat": 4,
 "nbformat_minor": 2
}
